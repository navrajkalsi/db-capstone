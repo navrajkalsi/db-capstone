{
 "cells": [
  {
   "cell_type": "code",
   "execution_count": 2,
   "id": "eb750971",
   "metadata": {},
   "outputs": [],
   "source": [
    "import mysql.connector as connector"
   ]
  },
  {
   "cell_type": "code",
   "execution_count": 3,
   "id": "20e8e9da",
   "metadata": {},
   "outputs": [],
   "source": [
    "connection = connector.connect(user = 'nav', password = 'sargun@1234')"
   ]
  },
  {
   "cell_type": "code",
   "execution_count": 4,
   "id": "7714bf58",
   "metadata": {},
   "outputs": [],
   "source": [
    "connection = connector.connect(user = 'nav', password = 'sargun@1234', database = 'littlelemondb')"
   ]
  },
  {
   "cell_type": "code",
   "execution_count": 5,
   "id": "9903b8c3",
   "metadata": {},
   "outputs": [],
   "source": [
    "cursor = connection.cursor()"
   ]
  },
  {
   "cell_type": "code",
   "execution_count": 6,
   "id": "6ac12dd7",
   "metadata": {},
   "outputs": [],
   "source": [
    "cursor.execute(\"\"\"SHOW TABLES;\"\"\")"
   ]
  },
  {
   "cell_type": "code",
   "execution_count": 7,
   "id": "8db7fad2",
   "metadata": {},
   "outputs": [],
   "source": [
    "results = cursor.fetchall()"
   ]
  },
  {
   "cell_type": "code",
   "execution_count": 8,
   "id": "f091ab8b",
   "metadata": {},
   "outputs": [
    {
     "name": "stdout",
     "output_type": "stream",
     "text": [
      "('bookings',)\n",
      "('customers',)\n",
      "('menu',)\n",
      "('orders',)\n",
      "('orderstatus',)\n",
      "('ordersview',)\n",
      "('staff',)\n"
     ]
    }
   ],
   "source": [
    "for result in results:\n",
    "    print(result)"
   ]
  },
  {
   "cell_type": "code",
   "execution_count": 9,
   "id": "1c06e11d",
   "metadata": {},
   "outputs": [],
   "source": [
    "select_query = \"\"\"SELECT CONCAT(customers.FirstName, ' ', customers.LastName) AS FullName, customers.Email, orders.TotalCost FROM customers\n",
    "INNER JOIN orders ON customers.BookingID = orders.BookingID WHERE orders.TotalCost > 60;\"\"\""
   ]
  },
  {
   "cell_type": "code",
   "execution_count": 10,
   "id": "f851490f",
   "metadata": {},
   "outputs": [],
   "source": [
    "cursor.execute(select_query)"
   ]
  },
  {
   "cell_type": "code",
   "execution_count": 12,
   "id": "163e2e01",
   "metadata": {},
   "outputs": [
    {
     "name": "stdout",
     "output_type": "stream",
     "text": [
      "('FullName', 'Email', 'TotalCost')\n",
      "('Navraj Kalsi', 'navraj@email.com', Decimal('90.00'))\n"
     ]
    }
   ],
   "source": [
    "print(cursor.column_names)\n",
    "results = cursor.fetchall()\n",
    "for result in results:\n",
    "    print(result)"
   ]
  },
  {
   "cell_type": "code",
   "execution_count": null,
   "id": "8ee560e2",
   "metadata": {},
   "outputs": [],
   "source": []
  }
 ],
 "metadata": {
  "kernelspec": {
   "display_name": "Python 3 (ipykernel)",
   "language": "python",
   "name": "python3"
  },
  "language_info": {
   "codemirror_mode": {
    "name": "ipython",
    "version": 3
   },
   "file_extension": ".py",
   "mimetype": "text/x-python",
   "name": "python",
   "nbconvert_exporter": "python",
   "pygments_lexer": "ipython3",
   "version": "3.11.3"
  }
 },
 "nbformat": 4,
 "nbformat_minor": 5
}
